{
 "cells": [
  {
   "cell_type": "code",
   "execution_count": 1,
   "metadata": {},
   "outputs": [],
   "source": [
    "from ipywidgets import interact\n",
    "from tools import models\n",
    "import constants\n",
    "import matplotlib.pyplot as plt\n",
    "import numpy as np\n",
    "\n",
    "\n"
   ]
  },
  {
   "cell_type": "code",
   "execution_count": 2,
   "metadata": {},
   "outputs": [],
   "source": [
    "def show_stable(p = 1, M = 50, **params):\n",
    "        params['p'] = p\n",
    "        params['M'] = M\n",
    "        model = models.LinearModel(params)\n",
    "        stable_state, growth_rate = model.calculate_quasistable_distribution()\n",
    "        growth_rate = np.round(growth_rate, 3)\n",
    "        xs = [i for i in range(M + 1)]\n",
    "\n",
    "\n",
    "        \n",
    "        plt.bar(xs, stable_state)\n",
    "        plt.text(M + 1, 0, f'growth rate: {growth_rate}')\n",
    "        plt.xlabel('number of methylated sites')\n",
    "        plt.ylabel('fraction of sites in quasistable distribution')\n",
    "        \n",
    "def show_collaborative_stable(p = 1, M = 50, **params):\n",
    "        params['p'] = p\n",
    "        params['M'] = M\n",
    "        model = models.CollaborativeModel(params, degree=2)\n",
    "        stable_state, growth_rate = model.calculate_quasistable_distribution()\n",
    "        growth_rate = np.round(growth_rate, 3)\n",
    "        xs = [i for i in range(M + 1)]\n",
    "\n",
    "\n",
    "        \n",
    "        plt.bar(xs, stable_state)\n",
    "        plt.text(M + 1, 0, f'growth rate: {growth_rate}')\n",
    "        plt.xlabel('number of methylated sites')\n",
    "        plt.ylabel('fraction of sites in quasistable distribution')\n",
    "\n",
    "def make_param_range(params):\n",
    "        param_range = {}\n",
    "        for key in params:\n",
    "                val = params[key]\n",
    "                if key == 'M': \n",
    "                        param_range[key] = (1, 100)\n",
    "                elif key == 'p':\n",
    "                        param_range[key] = (0.0, 1.0, 0.1)\n",
    "                else:\n",
    "                        param_range[key] = (0, 2 * val, 0.01)\n",
    "        return param_range\n",
    "\n"
   ]
  },
  {
   "cell_type": "code",
   "execution_count": 3,
   "metadata": {},
   "outputs": [
    {
     "data": {
      "application/vnd.jupyter.widget-view+json": {
       "model_id": "f9995db85042487e9810944bca117dfd",
       "version_major": 2,
       "version_minor": 0
      },
      "text/plain": [
       "interactive(children=(FloatSlider(value=1.0, description='p', max=1.0), IntSlider(value=50, description='M', m…"
      ]
     },
     "metadata": {},
     "output_type": "display_data"
    },
    {
     "data": {
      "text/plain": [
       "<function __main__.show_stable(p=1, M=50, **params)>"
      ]
     },
     "execution_count": 3,
     "metadata": {},
     "output_type": "execute_result"
    }
   ],
   "source": [
    "param_range = make_param_range(constants.BASIC_PARAMS)\n",
    "\n",
    "interact(show_stable, **param_range)\n"
   ]
  },
  {
   "cell_type": "code",
   "execution_count": 4,
   "metadata": {},
   "outputs": [
    {
     "data": {
      "application/vnd.jupyter.widget-view+json": {
       "model_id": "7661b714c0ec47a685064b2c052aebf3",
       "version_major": 2,
       "version_minor": 0
      },
      "text/plain": [
       "interactive(children=(FloatSlider(value=1.0, description='p', max=1.0), IntSlider(value=50, description='M', m…"
      ]
     },
     "metadata": {},
     "output_type": "display_data"
    },
    {
     "data": {
      "text/plain": [
       "<function __main__.show_collaborative_stable(p=1, M=50, **params)>"
      ]
     },
     "execution_count": 4,
     "metadata": {},
     "output_type": "execute_result"
    }
   ],
   "source": [
    "param_range = make_param_range(constants.BASIC_PARAMS_COLL)\n",
    "\n",
    "interact(show_collaborative_stable, **param_range)\n"
   ]
  }
 ],
 "metadata": {
  "kernelspec": {
   "display_name": "Python 3",
   "language": "python",
   "name": "python3"
  },
  "language_info": {
   "codemirror_mode": {
    "name": "ipython",
    "version": 3
   },
   "file_extension": ".py",
   "mimetype": "text/x-python",
   "name": "python",
   "nbconvert_exporter": "python",
   "pygments_lexer": "ipython3",
   "version": "3.11.2"
  },
  "orig_nbformat": 4
 },
 "nbformat": 4,
 "nbformat_minor": 2
}
